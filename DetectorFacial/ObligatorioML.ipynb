{
 "cells": [
  {
   "cell_type": "markdown",
   "metadata": {},
   "source": [
    "# Imports"
   ]
  },
  {
   "cell_type": "code",
   "execution_count": 1,
   "metadata": {},
   "outputs": [],
   "source": [
    "import os\n",
    "import numpy as np\n",
    "import matplotlib.pyplot as plt\n",
    "import matplotlib.patches as patches\n",
    "from skimage import io, color, feature, transform\n",
    "from skimage.transform import rescale, resize, rotate\n",
    "from skimage.data import lfw_subset\n",
    "\n",
    "#Clasificadores\n",
    "from sklearn.ensemble import AdaBoostClassifier\n",
    "from sklearn.tree import DecisionTreeClassifier\n",
    "from sklearn.ensemble import RandomForestClassifier\n",
    "from sklearn.neighbors import KNeighborsClassifier\n",
    "from sklearn.ensemble import BaggingClassifier\n",
    "from sklearn.ensemble import GradientBoostingClassifier\n",
    "from sklearn.neural_network import MLPClassifier\n",
    "from sklearn.linear_model import LogisticRegression\n",
    "\n",
    "from sklearn.model_selection import train_test_split\n",
    "from sklearn.model_selection import GridSearchCV\n",
    "from sklearn.metrics import roc_auc_score\n",
    "from sklearn.metrics import precision_score\n",
    "from sklearn.base import BaseEstimator, ClassifierMixin\n",
    "from sklearn.utils.validation import check_X_y, check_array, check_is_fitted\n",
    "\n",
    "\n",
    "# Encadenar iterables\n",
    "from itertools import chain\n",
    "\n",
    "# Proporciona una barra de progreso rápida\n",
    "from tqdm import tqdm\n",
    "\n",
    "# Selección aleatoria de una lista sin repetición\n",
    "from random import sample\n",
    "\n",
    "# Interfaz para hacer gráficos y visualizaciones\n",
    "import matplotlib.pyplot as plt\n",
    "\n",
    "# Computación científica\n",
    "import numpy as np\n",
    "\n",
    "# Manipulación de datos\n",
    "import pandas as pd\n",
    "\n",
    "# Para guardar y cargar modelos\n",
    "from joblib import dump, load\n",
    "\n",
    "# Extraer parches (pequeños subconjuntos de imágenes) de imágenes\n",
    "from sklearn.feature_extraction.image import PatchExtractor\n",
    "\n",
    "# data: conjunto de datos de muestra y funciones de carga\n",
    "# color: convertir imágenes entre espacios de color\n",
    "# feature: funciones para identificar y extraer características de imágenes\n",
    "from skimage import data, color, feature\n",
    "\n",
    "# Cambiar el tamaño de una imagen\n",
    "from skimage.transform import resize, rescale\n",
    "\n",
    "# Descarga y carga en memoria un conjunto de datos de imágenes de caras de personas famosas\n",
    "from sklearn.datasets import fetch_lfw_people\n",
    "\n",
    "# Regresión logística\n",
    "\n",
    "\n",
    "# Validación cruzada\n",
    "from sklearn.model_selection import cross_validate\n",
    "from sklearn.model_selection import StratifiedKFold\n",
    "\n",
    "# Matriz de confusión\n",
    "from sklearn.metrics import confusion_matrix\n",
    "\n",
    "# Exactitud en validación cruzada\n",
    "from sklearn.model_selection import cross_val_score\n",
    "\n",
    "# La curva ROC\n",
    "from sklearn.metrics import roc_curve , auc\n",
    "\n",
    "# Métricas custom\n",
    "from sklearn.metrics import make_scorer\n",
    "\n",
    "# Divide los datos en conjuntos de entrenamiento y prueba\n",
    "from sklearn.model_selection import train_test_split\n",
    "\n",
    "# Genera un informe detallado de métricas de clasificación\n",
    "from sklearn.metrics import classification_report\n",
    "\n",
    "# Funciones para trabajar con la curva ROC y calcular el área bajo la curva ROC\n",
    "from sklearn.metrics import roc_curve, roc_auc_score\n",
    "\n",
    "# Genera puntos para visualizar una curva de aprendizaje\n",
    "from sklearn.model_selection import learning_curve\n",
    "\n",
    "from sklearn.model_selection import cross_val_predict\n",
    "from sklearn.metrics import accuracy_score, precision_score\n",
    "from sklearn.metrics import confusion_matrix, precision_recall_fscore_support\n"
   ]
  },
  {
   "cell_type": "markdown",
   "metadata": {},
   "source": [
    "# Funciones auxiliares"
   ]
  },
  {
   "cell_type": "markdown",
   "metadata": {},
   "source": [
    "### Función para extraer porciones de una imagen \n",
    "(Se usa para generar muchas imagenes que no son caras)\n",
    "Parametros:\n",
    "- Escala\n",
    "- Tamaño del patch"
   ]
  },
  {
   "cell_type": "code",
   "execution_count": 2,
   "metadata": {},
   "outputs": [],
   "source": [
    "def extract_patches(img, N, scale=1.0, patch_size=(62,47)):\n",
    "    H = img.shape[0]\n",
    "    W = img.shape[1]\n",
    "    H_patch = min(H , int(scale * patch_size[0]))\n",
    "    W_patch = min(W , int(scale * patch_size[1]))\n",
    "    extracted_patch_size = (H_patch, W_patch)\n",
    "    extractor = PatchExtractor(patch_size=extracted_patch_size, max_patches=N, random_state=0)\n",
    "    patches = extractor.transform(img[np.newaxis])\n",
    "    if scale != 1:\n",
    "        patches = np.array([resize(patch, patch_size) for patch in patches])\n",
    "    return patches"
   ]
  },
  {
   "cell_type": "markdown",
   "metadata": {},
   "source": [
    "### Sintetizador de rectangulos\n",
    "Agarra el rectangulo más correcto"
   ]
  },
  {
   "cell_type": "code",
   "execution_count": 3,
   "metadata": {},
   "outputs": [],
   "source": [
    "\n",
    "\n",
    "def non_max_suppression_average(detections, overlapThresh):\n",
    "    # Si no hay detecciones, regresar una lista vacía\n",
    "    if len(detections) == 0:\n",
    "        return []\n",
    "\n",
    "    # Convertir las detecciones a un arreglo de NumPy\n",
    "    detections_array = np.array(detections)\n",
    "\n",
    "    # Inicializar la lista de detecciones seleccionadas\n",
    "    pick = []\n",
    "\n",
    "    # Tomar las coordenadas de los cuadros\n",
    "    x1 = detections_array[:, 0]\n",
    "    y1 = detections_array[:, 1]\n",
    "    x2 = detections_array[:, 0] + detections_array[:, 2]\n",
    "    y2 = detections_array[:, 1] + detections_array[:, 3]\n",
    "\n",
    "    # Calcula el área de los cuadros y ordena los cuadros\n",
    "    area = (x2 - x1 + 1) * (y2 - y1 + 1)\n",
    "    idxs = np.argsort(area)\n",
    "\n",
    "    # Mientras todavía hay índices en la lista de índices\n",
    "    while len(idxs) > 0:\n",
    "        # Toma todos los índices de la lista y agrega los índices a la lista de seleccionados\n",
    "        i = idxs[0]\n",
    "        pick.append(i)\n",
    "\n",
    "        # Encuentra las coordenadas (x, y) promedio y el tamaño promedio de la caja\n",
    "        avg_x1 = np.mean(x1[pick])\n",
    "        avg_y1 = np.mean(y1[pick])\n",
    "        avg_w = np.mean(x2[pick] - x1[pick])\n",
    "        avg_h = np.mean(y2[pick] - y1[pick])\n",
    "\n",
    "        # Elimina todos los índices del índice de lista que tienen una proporción de superposición mayor que el umbral proporcionado\n",
    "        idxs = np.delete(idxs, np.where((x1[idxs] < avg_x1 + avg_w) & (y1[idxs] < avg_y1 + avg_h) & (x2[idxs] > avg_x1) & (y2[idxs] > avg_y1))[0])\n",
    "\n",
    "    # Devuelve solo las detecciones seleccionadas\n",
    "    return [(avg_x1, avg_y1, avg_w, avg_h) for i in pick]\n",
    "\n",
    "\n",
    "\n",
    "\n"
   ]
  },
  {
   "cell_type": "code",
   "execution_count": 4,
   "metadata": {},
   "outputs": [],
   "source": [
    "\n",
    "def non_max_suppression1(detections, overlapThresh):\n",
    "    # Si no hay detecciones, regresar una lista vacía\n",
    "    if len(detections) == 0:\n",
    "        return []\n",
    "\n",
    "    # Convertir las detecciones a un arreglo de NumPy\n",
    "    indices = np.array([[d[0], d[1], d[0] + d[2], d[1] + d[3]] for d in detections], dtype=float)\n",
    "\n",
    "    # Inicializar la lista de detecciones seleccionadas\n",
    "    pick = []\n",
    "\n",
    "    # Tomar las coordenadas de los cuadros\n",
    "    x1 = indices[:, 0]\n",
    "    y1 = indices[:, 1]\n",
    "    x2 = indices[:, 2]\n",
    "    y2 = indices[:, 3]\n",
    "\n",
    "    # Calcula el área de los cuadros y ordena los cuadros\n",
    "    area = (x2 - x1 + 1) * (y2 - y1 + 1)\n",
    "    idxs = np.argsort(area)\n",
    "\n",
    "    # Mientras todavía hay índices en la lista de índices\n",
    "    while len(idxs) > 0:\n",
    "        # Toma el último índice de la lista y agrega el índice a la lista de seleccionados\n",
    "        last = len(idxs) - 1\n",
    "        i = idxs[last]\n",
    "        pick.append(i)\n",
    "\n",
    "        # Encontrar las coordenadas (x, y) más grandes para el inicio de la caja y las coordenadas (x, y) más pequeñas para el final de la caja\n",
    "        xx1 = np.maximum(x1[i], x1[idxs[:last]])\n",
    "        yy1 = np.maximum(y1[i], y1[idxs[:last]])\n",
    "        xx2 = np.minimum(x2[i], x2[idxs[:last]])\n",
    "        yy2 = np.minimum(y2[i], y2[idxs[:last]])\n",
    "\n",
    "        # Calcula el ancho y alto de la caja\n",
    "        w = np.maximum(0, xx2 - xx1 + 1)\n",
    "        h = np.maximum(0, yy2 - yy1 + 1)\n",
    "\n",
    "        # Calcula la proporción de superposición\n",
    "        overlap = (w * h) / area[idxs[:last]]\n",
    "\n",
    "        # Elimina todos los índices del índice de lista que tienen una proporción de superposición mayor que el umbral proporcionado\n",
    "        idxs = np.delete(idxs, np.concatenate(([last], np.where(overlap > overlapThresh)[0])))\n",
    "\n",
    "    # Devuelve solo las detecciones seleccionadas\n",
    "    return [detections[i] for i in pick]\n",
    "\n",
    "\n",
    "\n"
   ]
  },
  {
   "cell_type": "markdown",
   "metadata": {},
   "source": [
    "### TPR y FPR"
   ]
  },
  {
   "cell_type": "code",
   "execution_count": 5,
   "metadata": {},
   "outputs": [],
   "source": [
    "# True Positive Rate\n",
    "def tpr_scorer(clf, X, y):\n",
    "  y_pred = clf.predict(X)\n",
    "  cm = confusion_matrix(y, y_pred)\n",
    "  tpr = cm[1,1]/(cm[1,1]+cm[1,0])\n",
    "  return tpr\n",
    "\n",
    "# False Positive Rate\n",
    "def fpr_scorer(clf, X, y):\n",
    "  y_pred = clf.predict(X)\n",
    "  cm = confusion_matrix(y, y_pred)\n",
    "  fpr = cm[0,1]/(cm[0,0]+cm[0,1])\n",
    "  return fpr"
   ]
  },
  {
   "cell_type": "markdown",
   "metadata": {},
   "source": [
    "### Ventana deslizante"
   ]
  },
  {
   "cell_type": "code",
   "execution_count": 6,
   "metadata": {},
   "outputs": [],
   "source": [
    "# Define una función para realizar una ventana deslizante (sliding window) sobre una imagen.\n",
    "def sliding_window(img,\n",
    "                   patch_size=(62,47),  # Define el tamaño del parche (patch) basado en el primer parche positivo por defecto\n",
    "                   istep=2,  # Paso de desplazamiento en la dirección i (verticalmente)\n",
    "                   jstep=2,  # Paso de desplazamiento en la dirección j (horizontalmente)\n",
    "                   scale=1.0):  # Factor de escala para ajustar el tamaño del parche\n",
    "\n",
    "    # Calcula las dimensiones Ni y Nj del parche ajustadas por el factor de escala.\n",
    "    Ni, Nj = (int(scale * s) for s in patch_size)\n",
    "\n",
    "    # Itera a lo largo de la imagen en la dirección i\n",
    "    for i in range(0, img.shape[0] - Ni, istep):\n",
    "        # Itera a lo largo de la imagen en la dirección j\n",
    "        for j in range(0, img.shape[1] - Ni, jstep):\n",
    "\n",
    "            # Extrae el parche de la imagen usando las coordenadas actuales i, j.\n",
    "            patch = img[i:i + Ni, j:j + Nj]\n",
    "\n",
    "            # Si el factor de escala es diferente de 1, redimensiona el parche al tamaño original del parche.\n",
    "            if scale != 1:\n",
    "                patch = resize(patch, patch_size)\n",
    "\n",
    "            # Usa yield para devolver las coordenadas actuales y el parche.\n",
    "            # Esto convierte la función en un generador.\n",
    "            yield (i, j), patch"
   ]
  },
  {
   "cell_type": "markdown",
   "metadata": {},
   "source": [
    "## Dataset de rostros (LFW)"
   ]
  },
  {
   "cell_type": "code",
   "execution_count": 7,
   "metadata": {},
   "outputs": [
    {
     "data": {
      "text/plain": [
       "(13233, 62, 47)"
      ]
     },
     "execution_count": 7,
     "metadata": {},
     "output_type": "execute_result"
    }
   ],
   "source": [
    "# Cargamos el dataset de caras\n",
    "faces = fetch_lfw_people()\n",
    "positive_patches = faces.images\n",
    "positive_patches.shape"
   ]
  },
  {
   "cell_type": "markdown",
   "metadata": {},
   "source": [
    "## Dataset de fondos"
   ]
  },
  {
   "cell_type": "code",
   "execution_count": 8,
   "metadata": {},
   "outputs": [
    {
     "name": "stdout",
     "output_type": "stream",
     "text": [
      "26\n"
     ]
    }
   ],
   "source": [
    "# Tomamos algunas imágenes de sklearn\n",
    "imgs = ['camera',\n",
    "        'text',\n",
    "        'coins',\n",
    "        'moon',\n",
    "        'page',\n",
    "        'clock',\n",
    "        'immunohistochemistry',\n",
    "        'chelsea',\n",
    "        'coffee',\n",
    "        'hubble_deep_field'\n",
    "        ]\n",
    "\n",
    "backgrounds = []\n",
    "for name in imgs:\n",
    "    img = getattr(data, name)()\n",
    "    if len(img.shape) == 3 and img.shape[2] == 3:  # Chequeamos si la imagen es RGB\n",
    "        img = color.rgb2gray(img)\n",
    "    backgrounds.append(img)\n",
    "\n",
    "# Imagenes caseras adicionales\n",
    "for i in range(16):\n",
    "    filename = str(i)+'.jpg'\n",
    "    img = plt.imread(filename)\n",
    "    img = color.rgb2gray(img)\n",
    "    backgrounds.append(img)\n",
    "\n",
    "print(len(backgrounds))"
   ]
  },
  {
   "cell_type": "code",
   "execution_count": 9,
   "metadata": {},
   "outputs": [],
   "source": [
    "#model = RandomForestClassifier(n_estimators=20, max_depth=3, random_state=42)\n",
    "#model = KNeighborsClassifier(n_neighbors=2000)\n",
    "#model = DecisionTreeClassifier(criterion = 'entropy', max_depth=5, random_state=42)\n",
    "#model = AdaBoostClassifier(n_estimators=2, learning_rate=0.7, random_state=42)\n",
    "#model = BaggingClassifier(n_estimators=5, random_state=42)\n",
    "#model = GradientBoostingClassifier(n_estimators=4, learning_rate=0.8, max_depth=3, random_state=42)\n",
    "\n",
    "#model = MLPClassifier(hidden_layer_sizes=(1), max_iter=100, alpha=0.0001, solver='sgd', verbose=10,  random_state=21,tol=0.000000001)"
   ]
  },
  {
   "cell_type": "markdown",
   "metadata": {},
   "source": [
    "# Defino primer modelo"
   ]
  },
  {
   "cell_type": "code",
   "execution_count": 10,
   "metadata": {},
   "outputs": [],
   "source": [
    "\n",
    "\n",
    "model = LogisticRegression(penalty='l2',C=4, max_iter=1000)\n",
    "resolution = 1\n",
    "scales = [0.5,1,2,4,8]\n",
    "proportion = 10\n",
    "num_patches = int((proportion * len(positive_patches))/(len(scales) * len(backgrounds)))\n",
    "orientations = 3\n",
    "pixels_per_cell = (12, 12)\n",
    "cells_per_block = (3, 3)\n",
    "\n",
    "model_name = str(model)\n",
    "experiment_name = model_name\n",
    "experiment_name += '_R_' + str(resolution)\n",
    "experiment_name += '_S_' + str(scales)\n",
    "experiment_name += '_P_' + str(proportion)\n",
    "experiment_name += '_O_' + str(orientations)\n",
    "experiment_name += '_C_' + str(pixels_per_cell)\n",
    "experiment_name += '_B_' + str(cells_per_block)\n",
    "\n",
    "#print(experiment_name)"
   ]
  },
  {
   "cell_type": "code",
   "execution_count": 11,
   "metadata": {},
   "outputs": [
    {
     "name": "stderr",
     "output_type": "stream",
     "text": [
      "  0%|          | 0/13233 [00:00<?, ?it/s]"
     ]
    },
    {
     "name": "stderr",
     "output_type": "stream",
     "text": [
      "100%|██████████| 13233/13233 [00:01<00:00, 9407.26it/s]\n"
     ]
    },
    {
     "name": "stdout",
     "output_type": "stream",
     "text": [
      "(62, 47)\n"
     ]
    }
   ],
   "source": [
    "# Tamaño de las imágenes de rostros\n",
    "positive_patches = np.array(\n",
    "    [rescale(positive_patches[i],resolution)\n",
    "    for i in tqdm(range(len(positive_patches)))]\n",
    "    )\n",
    "size = positive_patches[0].shape\n",
    "print(size)"
   ]
  },
  {
   "cell_type": "code",
   "execution_count": 12,
   "metadata": {},
   "outputs": [
    {
     "name": "stderr",
     "output_type": "stream",
     "text": [
      "Procesando imágenes: 100%|██████████| 26/26 [01:56<00:00,  4.48s/it]\n"
     ]
    },
    {
     "data": {
      "text/plain": [
       "(124949, 62, 47)"
      ]
     },
     "execution_count": 12,
     "metadata": {},
     "output_type": "execute_result"
    }
   ],
   "source": [
    "# Extraemos las imágenes de fondo\n",
    "negative_patches = np.vstack(\n",
    "    [extract_patches(im, num_patches, scale)\n",
    "    for im in tqdm(backgrounds, desc='Procesando imágenes')\n",
    "    for scale in scales]\n",
    "    )\n",
    "negative_patches.shape"
   ]
  },
  {
   "cell_type": "markdown",
   "metadata": {},
   "source": [
    "## Matriz de Features"
   ]
  },
  {
   "cell_type": "code",
   "execution_count": 13,
   "metadata": {},
   "outputs": [
    {
     "name": "stderr",
     "output_type": "stream",
     "text": [
      "138182it [00:26, 5270.47it/s]\n"
     ]
    },
    {
     "name": "stdout",
     "output_type": "stream",
     "text": [
      "Matriz de características:  (138182, 81)\n",
      "Array de etiquetas:  (138182,)\n"
     ]
    }
   ],
   "source": [
    "# Armamos la matriz de features y el vector de etiquetas\n",
    "X = np.array(\n",
    "    [feature.hog(image=im,\n",
    "                 orientations=orientations,\n",
    "                 pixels_per_cell=pixels_per_cell,\n",
    "                 cells_per_block=cells_per_block)\n",
    "    for im in tqdm(chain(positive_patches, negative_patches))]\n",
    "    )\n",
    "y = np.zeros(X.shape[0])\n",
    "y[:positive_patches.shape[0]] = 1\n",
    "\n",
    "print(\"Matriz de características: \", X.shape)\n",
    "print(\"Array de etiquetas: \", y.shape)"
   ]
  },
  {
   "cell_type": "markdown",
   "metadata": {},
   "source": [
    "## Corremos el experimento\n",
    "\n",
    "Validacion cruzada"
   ]
  },
  {
   "cell_type": "code",
   "execution_count": 14,
   "metadata": {},
   "outputs": [
    {
     "name": "stderr",
     "output_type": "stream",
     "text": [
      "[Parallel(n_jobs=1)]: Using backend SequentialBackend with 1 concurrent workers.\n"
     ]
    },
    {
     "name": "stdout",
     "output_type": "stream",
     "text": [
      "[CV] END .................................................... total time=   4.1s\n"
     ]
    },
    {
     "name": "stderr",
     "output_type": "stream",
     "text": [
      "[Parallel(n_jobs=1)]: Done   1 out of   1 | elapsed:    4.1s remaining:    0.0s\n"
     ]
    },
    {
     "name": "stdout",
     "output_type": "stream",
     "text": [
      "[CV] END .................................................... total time=   2.1s\n",
      "[CV] END .................................................... total time=   2.4s\n",
      "[CV] END .................................................... total time=   3.3s\n",
      "[CV] END .................................................... total time=   3.5s\n"
     ]
    },
    {
     "name": "stderr",
     "output_type": "stream",
     "text": [
      "[Parallel(n_jobs=1)]: Done   5 out of   5 | elapsed:   15.5s finished\n"
     ]
    }
   ],
   "source": [
    "# Diccionario de scores\n",
    "model.fit(X,y)\n",
    "scoring = {'acc': 'accuracy',\n",
    "           'prec': 'precision_macro',\n",
    "           'rec': 'recall_macro',\n",
    "           'f1':'f1_macro',\n",
    "           'b_acc': 'balanced_accuracy',\n",
    "           'auc': 'roc_auc',\n",
    "           'tpr': tpr_scorer,\n",
    "           'fpr': fpr_scorer\n",
    "           }\n",
    "\n",
    "# Validación cruzada\n",
    "scores = cross_validate(model,X,y,verbose=2,scoring=scoring,cv=5)\n",
    "\n",
    "# Nos importan mas los promedios\n",
    "results = pd.DataFrame(\n",
    "    data={\n",
    "        'TIME': scores['fit_time'],\n",
    "        'ACCURACY': scores['test_acc'],\n",
    "        'PRECISION': scores['test_prec'],\n",
    "        'RECALL': scores['test_rec'],\n",
    "        'F1': scores['test_f1'],\n",
    "        'B_ACCURACY': scores['test_b_acc'],\n",
    "        'AUC': scores['test_auc'],\n",
    "        'TPR': scores['test_tpr'],\n",
    "        'FPR': scores['test_fpr'],\n",
    "    }\n",
    ").mean()\n",
    "#print(results)\n"
   ]
  },
  {
   "cell_type": "code",
   "execution_count": 15,
   "metadata": {},
   "outputs": [],
   "source": [
    "# Podemos guardarlo en un archivo de texto\n",
    "#results.to_csv(experiment_name + '.txt', header=False)"
   ]
  },
  {
   "cell_type": "markdown",
   "metadata": {},
   "source": [
    "### Mejor umbral"
   ]
  },
  {
   "cell_type": "code",
   "execution_count": 16,
   "metadata": {},
   "outputs": [
    {
     "name": "stdout",
     "output_type": "stream",
     "text": [
      "Umbrales óptimos:\n",
      " [0.2568, 0.1792, 0.1315, 0.1119, 0.0719]\n",
      "Mejor umbral promedio: 0.15025999999999998\n",
      "Desvío umbral: 0.06348545030162422\n",
      "FPR promedio: 0.018860000000000002, TPR promedio: 0.9788\n"
     ]
    },
    {
     "data": {
      "image/png": "[encoded data removed]",
      "text/plain": [
       "<Figure size 400x400 with 1 Axes>"
      ]
     },
     "metadata": {},
     "output_type": "display_data"
    }
   ],
   "source": [
    "#Esta funcion nos da el mejor umbral para cada fold\n",
    "n_splits = 5\n",
    "cv = StratifiedKFold(n_splits=n_splits)\n",
    "\n",
    "thrs = []\n",
    "tprs = []\n",
    "fprs = []\n",
    "\n",
    "fig, ax = plt.subplots(figsize=(4, 4))\n",
    "for fold, (train, test) in enumerate(cv.split(X, y)):\n",
    "    model.fit(X[train], y[train])\n",
    "    y_pred = model.predict_proba(X[test])\n",
    "    y_pred = y_pred[:, 1]\n",
    "    fpr, tpr, thresholds = roc_curve(y[test], y_pred)\n",
    "    gmean = np.sqrt(tpr * (1 - fpr))\n",
    "    index = np.argmax(gmean)\n",
    "    thresholdOpt = round(thresholds[index], ndigits = 4) #Este es el mejor umbral\n",
    "    fprOpt = round(fpr[index], ndigits = 4)\n",
    "    tprOpt = round(tpr[index], ndigits = 4)\n",
    "\n",
    "    thrs.append(thresholdOpt)\n",
    "    tprs.append(tprOpt)\n",
    "    fprs.append(fprOpt)\n",
    "\n",
    "    ax.step(\n",
    "        fpr,\n",
    "        tpr,\n",
    "        label=f'Fold {fold}',\n",
    "        lw=1,\n",
    "        alpha=1,\n",
    "    )\n",
    "\n",
    "    ax.plot(\n",
    "        fprOpt,\n",
    "        tprOpt,\n",
    "        marker = 'o'\n",
    "    )\n",
    "\n",
    "print(f'Umbrales óptimos:\\n {thrs}')\n",
    "print(f'Mejor umbral promedio: {np.mean(thrs)}')\n",
    "print(f'Desvío umbral: {np.std(thrs)}')\n",
    "print(f'FPR promedio: {np.mean(fprs)}, TPR promedio: {np.mean(tprOpt)}')\n",
    "\n",
    "with open(experiment_name + 'Umbral.txt', 'w') as f:\n",
    "    f.write('Mejor umbral promedio: ' + str(np.mean(thrs)))\n",
    "    f.write('\\n')\n",
    "    f.write('FPR promedio: ' + str(np.mean(fprs)) + ' TPR promedio: ' + str(np.mean(tprOpt)))\n",
    "\n",
    "ax.set(\n",
    "    xlim=[-0.05, 1.05],\n",
    "    ylim=[-0.05, 1.05],\n",
    "    xlabel=\"False Positive Rate\",\n",
    "    ylabel=\"True Positive Rate\",\n",
    "    title=f\"Curvas ROC para cada fold\",\n",
    ")\n",
    "ax.axis(\"square\")\n",
    "ax.legend(loc=\"lower right\")\n",
    "plt.show()"
   ]
  },
  {
   "cell_type": "markdown",
   "metadata": {},
   "source": [
    "# Entrenamiento"
   ]
  },
  {
   "cell_type": "code",
   "execution_count": 17,
   "metadata": {},
   "outputs": [],
   "source": [
    "X_train, X_test, y_train, y_test = train_test_split(X, y, test_size=0.20, random_state=42)"
   ]
  },
  {
   "cell_type": "markdown",
   "metadata": {},
   "source": [
    "# Main"
   ]
  },
  {
   "cell_type": "code",
   "execution_count": null,
   "metadata": {},
   "outputs": [],
   "source": [
    "# Definir y entrenar modelos\n",
    "\n",
    "modelRF = RandomForestClassifier(n_estimators=20, max_depth=3, random_state=42)\n",
    "modelRF.fit(X_train,y_train)\n",
    "\n",
    "modelRL = LogisticRegression(penalty='l2',C=2, max_iter=1000)\n",
    "modelRL.fit(X_train,y_train)\n",
    "\n",
    "modelKNN = KNeighborsClassifier(n_neighbors=20)\n",
    "modelKNN.fit(X_train,y_train)\n",
    "\n",
    "modelDT = DecisionTreeClassifier(max_depth=3, random_state=42)\n",
    "modelDT.fit(X_train,y_train)\n",
    "\n",
    "modelBG = BaggingClassifier(n_estimators=1, random_state=42)\n",
    "modelBG.fit(X_train,y_train)\n",
    "\n",
    "modelGB = GradientBoostingClassifier(n_estimators=1, learning_rate=0.3, max_depth=3, random_state=42)\n",
    "modelGB.fit(X_train,y_train)\n",
    "\n",
    "modelAB = AdaBoostClassifier(n_estimators=8, learning_rate=0.5, random_state=42)\n",
    "modelAB.fit(X_train,y_train)\n",
    "\n",
    "modelMLP = MLPClassifier(hidden_layer_sizes=(20, 20, 20), max_iter=100, alpha=0.0001, solver='sgd', verbose=10,  random_state=21,tol=0.000000001)\n",
    "modelMLP.fit(X_train,y_train)"
   ]
  },
  {
   "cell_type": "code",
   "execution_count": 19,
   "metadata": {},
   "outputs": [],
   "source": [
    "class ModeloDeCascada(BaseEstimator, ClassifierMixin):\n",
    "    def __init__(self, models) :\n",
    "        self.models = models\n",
    "        self.classes_ = [0, 1]\n",
    "    \n",
    "    def fit(self, X, y):\n",
    "        for model in self.models:\n",
    "            model.fit(X, y)\n",
    "        return self\n",
    "\n",
    "    def predict(self, x):\n",
    "        predictions = []\n",
    "\n",
    "        for im in x:\n",
    "            image_ok = True\n",
    "\n",
    "            for model in self.models:\n",
    "                prediction = model.predict([im])[0]\n",
    "                if(prediction == 0): \n",
    "                    image_ok = False\n",
    "                    break\n",
    "            predictions.append(image_ok)\n",
    "        return np.array(predictions)\n",
    "\n"
   ]
  },
  {
   "cell_type": "code",
   "execution_count": null,
   "metadata": {},
   "outputs": [],
   "source": [
    "cascadeModel = ModeloDeCascada(models=[modelRL, modelRF, modelKNN, modelDT, modelGB, modelBG, modelAB, modelMLP])\n",
    "\n",
    "y_pred = cross_val_predict(cascadeModel, X_train, y_train, cv=5)\n",
    "accuracy = accuracy_score(y_train, y_pred)\n",
    "print(\"Average Accuracy:\", accuracy)\n",
    "\n",
    "precision = precision_score(y_train, y_pred)\n",
    "print(\"Average Precision:\", precision)\n"
   ]
  },
  {
   "cell_type": "code",
   "execution_count": 21,
   "metadata": {},
   "outputs": [],
   "source": [
    "def ProcesarParche(patch): \n",
    "    patch_hog = feature.hog(patch,\n",
    "                            orientations=orientations,\n",
    "                            pixels_per_cell=pixels_per_cell,\n",
    "                            cells_per_block=cells_per_block)\n",
    "    \n",
    "    label = cascadeModel.predict(np.array([patch_hog]))[0]\n",
    "    if(label == 1):\n",
    "        return True\n",
    "    return False"
   ]
  },
  {
   "cell_type": "code",
   "execution_count": 22,
   "metadata": {},
   "outputs": [],
   "source": [
    "def preprocesamientoImg(img):\n",
    "    maxResolucionPosible = 1000 #defino la resolucion maxima posible de la foto. Si es mayor, la reduzco\n",
    "    scales = [4,2,1,0.5] #defino los factores de escala para pasar con la sliding window\n",
    "    istep = 4 #defino el paso de desplazamiento en la direccion i (verticalmente)\n",
    "    jstep = 4 #defino el paso de desplazamiento en la direccion j (horizontalmente)\n",
    "\n",
    "    resolution = max(img.shape)\n",
    "    if(resolution > 2 * maxResolucionPosible):\n",
    "       resizor = 0.3\n",
    "    elif(resolution > maxResolucionPosible):\n",
    "       resizor = 0.5\n",
    "    else:\n",
    "       resizor = 1\n",
    "    \n",
    "    return resizor, scales, istep, jstep"
   ]
  },
  {
   "cell_type": "code",
   "execution_count": 23,
   "metadata": {},
   "outputs": [],
   "source": [
    "\n",
    "def Main(img):\n",
    "    img = color.rgb2gray(img)\n",
    "    patch_size=(62,47)\n",
    "    resizor, scales, istep, jstep = preprocesamientoImg(img)\n",
    "    if(resizor != 1):\n",
    "        img = rescale(img, resizor)\n",
    "        print(\"La imagen fue reducida a \" + str(resizor) + \" de su tamaño original\")\n",
    "    detecciones = []\n",
    "    detecciones_suprimidas = []\n",
    "    cantDeteccionesPorEscala = 0\n",
    "    for scale in scales:\n",
    "        Ni, Nj = (int(scale * s) for s in patch_size) \n",
    "\n",
    "        for i in range(0, img.shape[0] - Ni, istep): \n",
    "            for j in range(0, img.shape[1] - Nj, jstep):    \n",
    "                patch = img[i:i + Ni, j:j + Nj] \n",
    "                if scale != 1:\n",
    "                    patch = resize(patch, patch_size) \n",
    "                \n",
    "                if(ProcesarParche(patch)):\n",
    "                    detecciones.append((i, j, Ni, Nj, scale))         \n",
    "\n",
    "        print(\"Cant. detecciones en escala \" + str(scale) +  \" = \"  + str(len(detecciones) - cantDeteccionesPorEscala))\n",
    "        cantDeteccionesPorEscala = len(detecciones)   \n",
    "        \n",
    "    detecciones_suprimidas = non_max_suppression1(detecciones, 0.01)   \n",
    "    fig, ax = plt.subplots()\n",
    "    ax.imshow(img, cmap='gray')\n",
    "    ax.axis('off')\n",
    "    print(\" \")\n",
    "    print (\"Cantidad total de detecciones: \" + str(len(detecciones)))\n",
    "    print(\"Cantidad de rostros encontrados: \" + str(len(detecciones_suprimidas)))\n",
    "    for deteccion in detecciones_suprimidas:\n",
    "        i, j, Ni, Nj, scale = deteccion\n",
    "        ax.add_patch(plt.Rectangle((j, i), Nj, Ni, edgecolor='red', alpha=1, lw=1, facecolor='none'))\n",
    "    plt.show()\n"
   ]
  },
  {
   "cell_type": "code",
   "execution_count": null,
   "metadata": {},
   "outputs": [],
   "source": [
    "test_image = plt.imread('cara4.jpg')\n",
    "Main(test_image)"
   ]
  }
 ],
 "metadata": {
  "kernelspec": {
   "display_name": "base",
   "language": "python",
   "name": "python3"
  },
  "language_info": {
   "codemirror_mode": {
    "name": "ipython",
    "version": 3
   },
   "file_extension": ".py",
   "mimetype": "text/x-python",
   "name": "python",
   "nbconvert_exporter": "python",
   "pygments_lexer": "ipython3",
   "version": "3.11.4"
  }
 },
 "nbformat": 4,
 "nbformat_minor": 2
}
